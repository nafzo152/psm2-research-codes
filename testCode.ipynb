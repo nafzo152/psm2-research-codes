{
 "cells": [
  {
   "cell_type": "code",
   "execution_count": 1,
   "metadata": {},
   "outputs": [
    {
     "name": "stdout",
     "output_type": "stream",
     "text": [
      "Filtered dataset saved to 'filtered_dataset.csv'.\n"
     ]
    }
   ],
   "source": [
    "import pandas as pd\n",
    "\n",
    "# Load the main dataset\n",
    "main_df = pd.read_csv('binary2.arff.csv')\n",
    "\n",
    "# Load the features CSV file\n",
    "features_df = pd.read_csv('feature_importances_sorted.csv')\n",
    "\n",
    "# Extract the feature names from the features CSV\n",
    "important_features = features_df['Feature'].tolist()\n",
    "\n",
    "# Filter the main dataset to keep only the columns that are in the important features list\n",
    "filtered_df = main_df[important_features + ['CLASS']]  # Assuming 'CLASS' is the target column you want to keep\n",
    "\n",
    "# Save the filtered dataset to a new CSV file\n",
    "filtered_df.to_csv('filtered_dataset.csv', index=False)\n",
    "\n",
    "print(\"Filtered dataset saved to 'filtered_dataset.csv'.\")\n"
   ]
  }
 ],
 "metadata": {
  "kernelspec": {
   "display_name": "Python 3",
   "language": "python",
   "name": "python3"
  },
  "language_info": {
   "codemirror_mode": {
    "name": "ipython",
    "version": 3
   },
   "file_extension": ".py",
   "mimetype": "text/x-python",
   "name": "python",
   "nbconvert_exporter": "python",
   "pygments_lexer": "ipython3",
   "version": "3.11.1"
  }
 },
 "nbformat": 4,
 "nbformat_minor": 2
}
