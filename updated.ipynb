{
 "cells": [
  {
   "cell_type": "markdown",
   "metadata": {},
   "source": [
    "Load packages"
   ]
  },
  {
   "cell_type": "code",
   "execution_count": 1,
   "metadata": {},
   "outputs": [],
   "source": [
    "import pandas as pd\n",
    "from sklearn.svm import SVC\n",
    "import matplotlib.pyplot as plt\n",
    "from sklearn.preprocessing import LabelEncoder\n",
    "from sklearn.ensemble import RandomForestClassifier\n",
    "from sklearn.model_selection import train_test_split, cross_val_score\n",
    "from sklearn.metrics import accuracy_score, classification_report, confusion_matrix, precision_score, recall_score, f1_score\n",
    "from sklearn.metrics import roc_auc_score, roc_curve, auc"
   ]
  },
  {
   "cell_type": "markdown",
   "metadata": {},
   "source": [
    "Load Dataset and split"
   ]
  },
  {
   "cell_type": "code",
   "execution_count": 2,
   "metadata": {},
   "outputs": [],
   "source": [
    "\n",
    "# Load the dataset\n",
    "df = pd.read_csv('binary.arff.csv')\n",
    "\n",
    "# Split data into X (features) and Y (target)\n",
    "X = df.iloc[:, :-1].values  # Features\n",
    "Y = df.iloc[:, -1].values   # Labels\n",
    "\n",
    "# Convert categorical labels to binary labels\n",
    "le = LabelEncoder()\n",
    "Y = le.fit_transform(Y)  # Encode 'ALL' as 0 and 'AML' as 1\n"
   ]
  },
  {
   "cell_type": "markdown",
   "metadata": {},
   "source": [
    "Data Visualization"
   ]
  },
  {
   "cell_type": "code",
   "execution_count": 3,
   "metadata": {},
   "outputs": [
    {
     "data": {
      "text/html": [
       "<div>\n",
       "<style scoped>\n",
       "    .dataframe tbody tr th:only-of-type {\n",
       "        vertical-align: middle;\n",
       "    }\n",
       "\n",
       "    .dataframe tbody tr th {\n",
       "        vertical-align: top;\n",
       "    }\n",
       "\n",
       "    .dataframe thead th {\n",
       "        text-align: right;\n",
       "    }\n",
       "</style>\n",
       "<table border=\"1\" class=\"dataframe\">\n",
       "  <thead>\n",
       "    <tr style=\"text-align: right;\">\n",
       "      <th></th>\n",
       "      <th>AFFX-BioB-5_at</th>\n",
       "      <th>AFFX-BioB-M_at</th>\n",
       "      <th>AFFX-BioB-3_at</th>\n",
       "      <th>AFFX-BioC-5_at</th>\n",
       "      <th>AFFX-BioC-3_at</th>\n",
       "      <th>AFFX-BioDn-5_at</th>\n",
       "      <th>AFFX-BioDn-3_at</th>\n",
       "      <th>AFFX-CreX-5_at</th>\n",
       "      <th>AFFX-CreX-3_at</th>\n",
       "      <th>AFFX-BioB-5_st</th>\n",
       "      <th>...</th>\n",
       "      <th>U58516_at</th>\n",
       "      <th>U73738_at</th>\n",
       "      <th>X06956_at</th>\n",
       "      <th>X16699_at</th>\n",
       "      <th>X83863_at</th>\n",
       "      <th>Z17240_at</th>\n",
       "      <th>L49218_f_at</th>\n",
       "      <th>M71243_f_at</th>\n",
       "      <th>Z78285_f_at</th>\n",
       "      <th>CLASS</th>\n",
       "    </tr>\n",
       "  </thead>\n",
       "  <tbody>\n",
       "    <tr>\n",
       "      <th>0</th>\n",
       "      <td>-342</td>\n",
       "      <td>-200</td>\n",
       "      <td>41</td>\n",
       "      <td>328</td>\n",
       "      <td>-224</td>\n",
       "      <td>-427</td>\n",
       "      <td>-656</td>\n",
       "      <td>-292</td>\n",
       "      <td>137</td>\n",
       "      <td>-144</td>\n",
       "      <td>...</td>\n",
       "      <td>1023</td>\n",
       "      <td>67</td>\n",
       "      <td>214</td>\n",
       "      <td>-135</td>\n",
       "      <td>1074</td>\n",
       "      <td>475</td>\n",
       "      <td>48</td>\n",
       "      <td>168</td>\n",
       "      <td>-70</td>\n",
       "      <td>ALL</td>\n",
       "    </tr>\n",
       "    <tr>\n",
       "      <th>1</th>\n",
       "      <td>-87</td>\n",
       "      <td>-248</td>\n",
       "      <td>262</td>\n",
       "      <td>295</td>\n",
       "      <td>-226</td>\n",
       "      <td>-493</td>\n",
       "      <td>367</td>\n",
       "      <td>-452</td>\n",
       "      <td>194</td>\n",
       "      <td>162</td>\n",
       "      <td>...</td>\n",
       "      <td>529</td>\n",
       "      <td>-295</td>\n",
       "      <td>352</td>\n",
       "      <td>-67</td>\n",
       "      <td>67</td>\n",
       "      <td>263</td>\n",
       "      <td>-33</td>\n",
       "      <td>-33</td>\n",
       "      <td>-21</td>\n",
       "      <td>ALL</td>\n",
       "    </tr>\n",
       "    <tr>\n",
       "      <th>2</th>\n",
       "      <td>-62</td>\n",
       "      <td>-23</td>\n",
       "      <td>-7</td>\n",
       "      <td>142</td>\n",
       "      <td>-233</td>\n",
       "      <td>-284</td>\n",
       "      <td>-167</td>\n",
       "      <td>-97</td>\n",
       "      <td>-12</td>\n",
       "      <td>-70</td>\n",
       "      <td>...</td>\n",
       "      <td>383</td>\n",
       "      <td>46</td>\n",
       "      <td>104</td>\n",
       "      <td>15</td>\n",
       "      <td>245</td>\n",
       "      <td>164</td>\n",
       "      <td>84</td>\n",
       "      <td>100</td>\n",
       "      <td>-18</td>\n",
       "      <td>ALL</td>\n",
       "    </tr>\n",
       "    <tr>\n",
       "      <th>3</th>\n",
       "      <td>22</td>\n",
       "      <td>-153</td>\n",
       "      <td>17</td>\n",
       "      <td>276</td>\n",
       "      <td>-211</td>\n",
       "      <td>-250</td>\n",
       "      <td>55</td>\n",
       "      <td>-141</td>\n",
       "      <td>0</td>\n",
       "      <td>500</td>\n",
       "      <td>...</td>\n",
       "      <td>399</td>\n",
       "      <td>16</td>\n",
       "      <td>558</td>\n",
       "      <td>24</td>\n",
       "      <td>893</td>\n",
       "      <td>297</td>\n",
       "      <td>6</td>\n",
       "      <td>1971</td>\n",
       "      <td>-42</td>\n",
       "      <td>ALL</td>\n",
       "    </tr>\n",
       "    <tr>\n",
       "      <th>4</th>\n",
       "      <td>86</td>\n",
       "      <td>-36</td>\n",
       "      <td>-141</td>\n",
       "      <td>252</td>\n",
       "      <td>-201</td>\n",
       "      <td>-384</td>\n",
       "      <td>-420</td>\n",
       "      <td>-197</td>\n",
       "      <td>-60</td>\n",
       "      <td>-468</td>\n",
       "      <td>...</td>\n",
       "      <td>91</td>\n",
       "      <td>-84</td>\n",
       "      <td>615</td>\n",
       "      <td>-52</td>\n",
       "      <td>1235</td>\n",
       "      <td>9</td>\n",
       "      <td>7</td>\n",
       "      <td>1545</td>\n",
       "      <td>-81</td>\n",
       "      <td>ALL</td>\n",
       "    </tr>\n",
       "  </tbody>\n",
       "</table>\n",
       "<p>5 rows × 7130 columns</p>\n",
       "</div>"
      ],
      "text/plain": [
       "   AFFX-BioB-5_at  AFFX-BioB-M_at  AFFX-BioB-3_at  AFFX-BioC-5_at  \\\n",
       "0            -342            -200              41             328   \n",
       "1             -87            -248             262             295   \n",
       "2             -62             -23              -7             142   \n",
       "3              22            -153              17             276   \n",
       "4              86             -36            -141             252   \n",
       "\n",
       "   AFFX-BioC-3_at  AFFX-BioDn-5_at  AFFX-BioDn-3_at  AFFX-CreX-5_at  \\\n",
       "0            -224             -427             -656            -292   \n",
       "1            -226             -493              367            -452   \n",
       "2            -233             -284             -167             -97   \n",
       "3            -211             -250               55            -141   \n",
       "4            -201             -384             -420            -197   \n",
       "\n",
       "   AFFX-CreX-3_at  AFFX-BioB-5_st  ...  U58516_at  U73738_at  X06956_at  \\\n",
       "0             137            -144  ...       1023         67        214   \n",
       "1             194             162  ...        529       -295        352   \n",
       "2             -12             -70  ...        383         46        104   \n",
       "3               0             500  ...        399         16        558   \n",
       "4             -60            -468  ...         91        -84        615   \n",
       "\n",
       "   X16699_at  X83863_at  Z17240_at  L49218_f_at  M71243_f_at  Z78285_f_at  \\\n",
       "0       -135       1074        475           48          168          -70   \n",
       "1        -67         67        263          -33          -33          -21   \n",
       "2         15        245        164           84          100          -18   \n",
       "3         24        893        297            6         1971          -42   \n",
       "4        -52       1235          9            7         1545          -81   \n",
       "\n",
       "   CLASS  \n",
       "0    ALL  \n",
       "1    ALL  \n",
       "2    ALL  \n",
       "3    ALL  \n",
       "4    ALL  \n",
       "\n",
       "[5 rows x 7130 columns]"
      ]
     },
     "metadata": {},
     "output_type": "display_data"
    },
    {
     "data": {
      "text/plain": [
       "Index(['AFFX-BioB-5_at', 'AFFX-BioB-M_at', 'AFFX-BioB-3_at', 'AFFX-BioC-5_at',\n",
       "       'AFFX-BioC-3_at', 'AFFX-BioDn-5_at', 'AFFX-BioDn-3_at',\n",
       "       'AFFX-CreX-5_at', 'AFFX-CreX-3_at', 'AFFX-BioB-5_st',\n",
       "       ...\n",
       "       'U58516_at', 'U73738_at', 'X06956_at', 'X16699_at', 'X83863_at',\n",
       "       'Z17240_at', 'L49218_f_at', 'M71243_f_at', 'Z78285_f_at', 'CLASS'],\n",
       "      dtype='object', length=7130)"
      ]
     },
     "metadata": {},
     "output_type": "display_data"
    }
   ],
   "source": [
    "# head\n",
    "display(df.head())\n",
    "\n",
    "# columns\n",
    "display(df.columns)\n"
   ]
  },
  {
   "cell_type": "markdown",
   "metadata": {},
   "source": [
    "SVM"
   ]
  },
  {
   "cell_type": "code",
   "execution_count": 4,
   "metadata": {},
   "outputs": [
    {
     "name": "stdout",
     "output_type": "stream",
     "text": [
      "Accuracy: 0.9333333333333333\n",
      "\n",
      "Classification Report:\n",
      "               precision    recall  f1-score   support\n",
      "\n",
      "           0       1.00      0.92      0.96        12\n",
      "           1       0.75      1.00      0.86         3\n",
      "\n",
      "    accuracy                           0.93        15\n",
      "   macro avg       0.88      0.96      0.91        15\n",
      "weighted avg       0.95      0.93      0.94        15\n",
      "\n",
      "Confusion Matrix:\n",
      "[[11  1]\n",
      " [ 0  3]]\n"
     ]
    }
   ],
   "source": [
    "# Split the dataset into training and test data\n",
    "X_train, X_test, Y_train, Y_test = train_test_split(X, Y, test_size=0.2, random_state=14)\n",
    "\n",
    "# Build the model\n",
    "svm = SVC(kernel='linear',  random_state=12)\n",
    "\n",
    "# Train the model\n",
    "svm.fit(X_train, Y_train)\n",
    "\n",
    "# Predict the labels for the test set\n",
    "Y_pred = svm.predict(X_test)\n",
    "\n",
    "# Calculate the accuracy\n",
    "accuracy = accuracy_score(Y_test, Y_pred)\n",
    "classification_rep = classification_report(Y_test, Y_pred)\n",
    "\n",
    "print(\"Accuracy:\", accuracy)\n",
    "print(\"\\nClassification Report:\\n\", classification_rep)\n",
    "print(\"Confusion Matrix:\")\n",
    "print(confusion_matrix(Y_test, Y_pred))\n"
   ]
  },
  {
   "cell_type": "markdown",
   "metadata": {},
   "source": [
    "Confusion Matrix"
   ]
  },
  {
   "cell_type": "code",
   "execution_count": 5,
   "metadata": {},
   "outputs": [
    {
     "name": "stdout",
     "output_type": "stream",
     "text": [
      "Confusion Matrix:\n",
      "[[11  1]\n",
      " [ 0  3]]\n"
     ]
    },
    {
     "data": {
      "image/png": "[encoded data removed]",
      "text/plain": [
       "<Figure size 640x480 with 2 Axes>"
      ]
     },
     "metadata": {},
     "output_type": "display_data"
    }
   ],
   "source": [
    "from sklearn import metrics\n",
    "# Calculate confusion matrix\n",
    "conf_matrix = confusion_matrix(Y_test, Y_pred)\n",
    "print(\"Confusion Matrix:\")\n",
    "print(conf_matrix)\n",
    "\n",
    "# Plot confusion matrix\n",
    "disp = metrics.ConfusionMatrixDisplay(confusion_matrix=conf_matrix)\n",
    "disp.plot(cmap='Blues')\n",
    "\n",
    "plt.title('Confusion Matrix')\n",
    "plt.show()"
   ]
  },
  {
   "cell_type": "markdown",
   "metadata": {},
   "source": [
    "Cross Validation Score for SVM"
   ]
  },
  {
   "cell_type": "code",
   "execution_count": 6,
   "metadata": {},
   "outputs": [
    {
     "name": "stdout",
     "output_type": "stream",
     "text": [
      "Cross-validation Scores: [0.91666667 0.88888889]\n",
      "Mean Cross-validation Accuracy: 0.9027777777777777\n"
     ]
    }
   ],
   "source": [
    "# Perform n-fold cross-validation\n",
    "n = 2\n",
    "cv_scores = cross_val_score(svm, X, Y, cv=n)\n",
    "\n",
    "# Print cross-validation scores\n",
    "print(\"Cross-validation Scores:\", cv_scores)\n",
    "print(\"Mean Cross-validation Accuracy:\", cv_scores.mean())"
   ]
  },
  {
   "cell_type": "markdown",
   "metadata": {},
   "source": [
    "Cross Validation Graph"
   ]
  },
  {
   "cell_type": "code",
   "execution_count": 7,
   "metadata": {},
   "outputs": [
    {
     "name": "stdout",
     "output_type": "stream",
     "text": [
      "\n",
      "Cross-validation Scores: [0.91666667 0.88888889]\n",
      "Mean Cross-validation Accuracy: 0.9027777777777777\n"
     ]
    },
    {
     "data": {
      "image/png": "[encoded data removed]",
      "text/plain": [
       "<Figure size 800x600 with 1 Axes>"
      ]
     },
     "metadata": {},
     "output_type": "display_data"
    }
   ],
   "source": [
    "# Print cross-validation scores\n",
    "print(\"\\nCross-validation Scores:\", cv_scores)\n",
    "print(\"Mean Cross-validation Accuracy:\", cv_scores.mean())\n",
    "\n",
    "# Plot Cross-validation Scores\n",
    "plt.figure(figsize=(8, 6))\n",
    "plt.bar(range(1, n + 1), cv_scores, color='skyblue')\n",
    "plt.xlabel('Fold')\n",
    "plt.ylabel('Accuracy')\n",
    "plt.title('Cross-validation Scores')\n",
    "plt.ylim(0, 1)  # Limit y-axis to 0-1 for accuracy scores\n",
    "plt.grid(True)\n",
    "plt.show()"
   ]
  },
  {
   "cell_type": "markdown",
   "metadata": {},
   "source": [
    "ROC-AUC"
   ]
  },
  {
   "cell_type": "code",
   "execution_count": 8,
   "metadata": {},
   "outputs": [
    {
     "name": "stdout",
     "output_type": "stream",
     "text": [
      "ROC-AUC: 0.9583\n"
     ]
    },
    {
     "data": {
      "image/png": "[encoded data removed]",
      "text/plain": [
       "<Figure size 640x480 with 1 Axes>"
      ]
     },
     "metadata": {},
     "output_type": "display_data"
    }
   ],
   "source": [
    "\n",
    "# Calculate ROC AUC score\n",
    "roc_auc = metrics.roc_auc_score(Y_test, Y_pred)\n",
    "print(f\"ROC-AUC: {roc_auc:.4f}\")\n",
    "\n",
    "# Plot ROC curve\n",
    "fpr, tpr, thresholds = metrics.roc_curve(Y_test, Y_pred)\n",
    "plt.figure()\n",
    "plt.plot(fpr, tpr, color='red', lw=2, label=f'ROC Curve (AUC = {roc_auc:.2f})')\n",
    "plt.plot([0, 1], [0, 1], color='green', linestyle='--')\n",
    "plt.xlabel('False Positive Rate')\n",
    "plt.ylabel('True Positive Rate')\n",
    "plt.title('Receiver Operating Characteristic (ROC) Curve')\n",
    "plt.legend(loc=\"lower right\")\n",
    "plt.show()\n",
    "\n"
   ]
  },
  {
   "cell_type": "markdown",
   "metadata": {},
   "source": [
    "Classificaion Report"
   ]
  },
  {
   "cell_type": "code",
   "execution_count": 9,
   "metadata": {},
   "outputs": [
    {
     "data": {
      "image/png": "[encoded data removed]",
      "text/plain": [
       "<Figure size 1000x600 with 1 Axes>"
      ]
     },
     "metadata": {},
     "output_type": "display_data"
    }
   ],
   "source": [
    "# Get the classification report\n",
    "classification_rep = classification_report(Y_test, Y_pred, target_names=le.classes_, output_dict=True)\n",
    "\n",
    "# Extract precision, recall, and f1-score values\n",
    "metrics = ['precision', 'recall', 'f1-score']\n",
    "classes = list(le.classes_)\n",
    "values = {metric: [classification_rep[class_name][metric] for class_name in classes] for metric in metrics}\n",
    "\n",
    "# Plotting\n",
    "plt.figure(figsize=(10, 6))\n",
    "\n",
    "# Bar positions and width\n",
    "bar_width = 0.2\n",
    "index = range(len(classes))\n",
    "\n",
    "# Plot bars for each metric\n",
    "for i, metric in enumerate(metrics):\n",
    "    plt.bar([pos + i * bar_width for pos in index], values[metric], bar_width, label=metric)\n",
    "\n",
    "plt.xlabel('Classes')\n",
    "plt.ylabel('Score')\n",
    "plt.title('Classification Report Metrics')\n",
    "plt.xticks([pos + bar_width for pos in index], classes)\n",
    "plt.ylim(0, 1)\n",
    "plt.legend()\n",
    "plt.grid(True)\n",
    "plt.show()"
   ]
  },
  {
   "cell_type": "markdown",
   "metadata": {},
   "source": [
    "Random Forest"
   ]
  },
  {
   "cell_type": "code",
   "execution_count": 10,
   "metadata": {},
   "outputs": [
    {
     "name": "stdout",
     "output_type": "stream",
     "text": [
      "Accuracy: 0.8666666666666667\n",
      "\n",
      "Classification Report:\n",
      "               precision    recall  f1-score   support\n",
      "\n",
      "           0       0.85      1.00      0.92        11\n",
      "           1       1.00      0.50      0.67         4\n",
      "\n",
      "    accuracy                           0.87        15\n",
      "   macro avg       0.92      0.75      0.79        15\n",
      "weighted avg       0.89      0.87      0.85        15\n",
      "\n",
      "Confusion Matrix:\n",
      "[[11  0]\n",
      " [ 2  2]]\n"
     ]
    }
   ],
   "source": [
    "# Split the dataset into training and test data\n",
    "X_train, X_test, Y_train, Y_test = train_test_split(X, Y, test_size=0.2, random_state=13)\n",
    "\n",
    "# Build the Random Forest model\n",
    "rf = RandomForestClassifier(n_estimators=3, random_state=13)\n",
    "\n",
    "# Train the model\n",
    "rf.fit(X_train, Y_train)\n",
    "\n",
    "# Predict the labels for the test set\n",
    "Y_pred = rf.predict(X_test)\n",
    "\n",
    "# Calculate the accuracy\n",
    "accuracy = accuracy_score(Y_test, Y_pred)\n",
    "classification_rep = classification_report(Y_test, Y_pred)\n",
    "\n",
    "print(\"Accuracy:\", accuracy)\n",
    "print(\"\\nClassification Report:\\n\", classification_rep)\n",
    "print(\"Confusion Matrix:\")\n",
    "print(confusion_matrix(Y_test, Y_pred))"
   ]
  },
  {
   "cell_type": "markdown",
   "metadata": {},
   "source": [
    "Confusion Matrix"
   ]
  },
  {
   "cell_type": "code",
   "execution_count": 11,
   "metadata": {},
   "outputs": [
    {
     "name": "stdout",
     "output_type": "stream",
     "text": [
      "Confusion Matrix:\n",
      "[[11  0]\n",
      " [ 2  2]]\n"
     ]
    },
    {
     "data": {
      "image/png": "[encoded data removed]",
      "text/plain": [
       "<Figure size 640x480 with 2 Axes>"
      ]
     },
     "metadata": {},
     "output_type": "display_data"
    }
   ],
   "source": [
    "from sklearn import metrics\n",
    "# Calculate confusion matrix\n",
    "conf_matrix = confusion_matrix(Y_test, Y_pred)\n",
    "print(\"Confusion Matrix:\")\n",
    "print(conf_matrix)\n",
    "\n",
    "# Plot confusion matrix\n",
    "disp = metrics.ConfusionMatrixDisplay(confusion_matrix=conf_matrix)\n",
    "disp.plot(cmap='Blues')\n",
    "\n",
    "plt.title('Confusion Matrix')\n",
    "plt.show()"
   ]
  },
  {
   "cell_type": "markdown",
   "metadata": {},
   "source": [
    "Cross Validation Score for Random Forest"
   ]
  },
  {
   "cell_type": "code",
   "execution_count": 12,
   "metadata": {},
   "outputs": [
    {
     "name": "stdout",
     "output_type": "stream",
     "text": [
      "Cross-validation Scores: [0.86666667 0.66666667 0.57142857 0.78571429 0.78571429]\n",
      "Mean Cross-validation Accuracy: 0.7352380952380951\n"
     ]
    }
   ],
   "source": [
    "# Perform n-fold cross-validation\n",
    "n = 5\n",
    "cv_scores = cross_val_score(rf, X, Y, cv=n)\n",
    "\n",
    "# Print cross-validation scores\n",
    "print(\"Cross-validation Scores:\", cv_scores)\n",
    "print(\"Mean Cross-validation Accuracy:\", cv_scores.mean())"
   ]
  },
  {
   "cell_type": "markdown",
   "metadata": {},
   "source": [
    "Cross Validation graph"
   ]
  },
  {
   "cell_type": "code",
   "execution_count": 13,
   "metadata": {},
   "outputs": [
    {
     "name": "stdout",
     "output_type": "stream",
     "text": [
      "\n",
      "Cross-validation Scores: [0.86666667 0.66666667 0.57142857 0.78571429 0.78571429]\n",
      "Mean Cross-validation Accuracy: 0.7352380952380951\n"
     ]
    },
    {
     "data": {
      "image/png": "[encoded data removed]",
      "text/plain": [
       "<Figure size 800x600 with 1 Axes>"
      ]
     },
     "metadata": {},
     "output_type": "display_data"
    }
   ],
   "source": [
    "# Print cross-validation scores\n",
    "print(\"\\nCross-validation Scores:\", cv_scores)\n",
    "print(\"Mean Cross-validation Accuracy:\", cv_scores.mean())\n",
    "\n",
    "# Plot Cross-validation Scores\n",
    "plt.figure(figsize=(8, 6))\n",
    "plt.bar(range(1, n + 1), cv_scores, color='skyblue')\n",
    "plt.xlabel('Fold')\n",
    "plt.ylabel('Accuracy')\n",
    "plt.title('Cross-validation Scores')\n",
    "plt.ylim(0, 1)  # Limit y-axis to 0-1 for accuracy scores\n",
    "plt.grid(True)\n",
    "plt.show()"
   ]
  },
  {
   "cell_type": "markdown",
   "metadata": {},
   "source": [
    "ROC-AUC"
   ]
  },
  {
   "cell_type": "code",
   "execution_count": 14,
   "metadata": {},
   "outputs": [
    {
     "name": "stdout",
     "output_type": "stream",
     "text": [
      "ROC-AUC: 0.7500\n"
     ]
    },
    {
     "data": {
      "image/png": "[encoded data removed]",
      "text/plain": [
       "<Figure size 640x480 with 1 Axes>"
      ]
     },
     "metadata": {},
     "output_type": "display_data"
    }
   ],
   "source": [
    "\n",
    "# Calculate ROC AUC score\n",
    "roc_auc = metrics.roc_auc_score(Y_test, Y_pred)\n",
    "print(f\"ROC-AUC: {roc_auc:.4f}\")\n",
    "\n",
    "# Plot ROC curve\n",
    "fpr, tpr, thresholds = metrics.roc_curve(Y_test, Y_pred)\n",
    "plt.figure()\n",
    "plt.plot(fpr, tpr, color='red', lw=2, label=f'ROC Curve (AUC = {roc_auc:.2f})')\n",
    "plt.plot([0, 1], [0, 1], color='green', linestyle='--')\n",
    "plt.xlabel('False Positive Rate')\n",
    "plt.ylabel('True Positive Rate')\n",
    "plt.title('Receiver Operating Characteristic (ROC) Curve')\n",
    "plt.legend(loc=\"lower right\")\n",
    "plt.show()\n",
    "\n"
   ]
  },
  {
   "cell_type": "markdown",
   "metadata": {},
   "source": [
    "Classification report"
   ]
  },
  {
   "cell_type": "code",
   "execution_count": 15,
   "metadata": {},
   "outputs": [
    {
     "data": {
      "image/png": "[encoded data removed]",
      "text/plain": [
       "<Figure size 1000x600 with 1 Axes>"
      ]
     },
     "metadata": {},
     "output_type": "display_data"
    }
   ],
   "source": [
    "# Get the classification report\n",
    "classification_rep = classification_report(Y_test, Y_pred, target_names=le.classes_, output_dict=True)\n",
    "\n",
    "# Extract precision, recall, and f1-score values\n",
    "metrics = ['precision', 'recall', 'f1-score']\n",
    "classes = list(le.classes_)\n",
    "values = {metric: [classification_rep[class_name][metric] for class_name in classes] for metric in metrics}\n",
    "\n",
    "# Plotting\n",
    "plt.figure(figsize=(10, 6))\n",
    "\n",
    "# Bar positions and width\n",
    "bar_width = 0.2\n",
    "index = range(len(classes))\n",
    "\n",
    "# Plot bars for each metric\n",
    "for i, metric in enumerate(metrics):\n",
    "    plt.bar([pos + i * bar_width for pos in index], values[metric], bar_width, label=metric)\n",
    "\n",
    "plt.xlabel('Classes')\n",
    "plt.ylabel('Score')\n",
    "plt.title('Classification Report Metrics')\n",
    "plt.xticks([pos + bar_width for pos in index], classes)\n",
    "plt.ylim(0, 1)\n",
    "plt.legend()\n",
    "plt.grid(True)\n",
    "plt.show()"
   ]
  },
  {
   "cell_type": "markdown",
   "metadata": {},
   "source": [
    "Mutual Information:\n"
   ]
  },
  {
   "cell_type": "code",
   "execution_count": 16,
   "metadata": {},
   "outputs": [
    {
     "name": "stdout",
     "output_type": "stream",
     "text": [
      "Top 10 features based on Mutual Information:\n",
      "Index(['M23197_at', 'X95735_at', 'M27891_at', 'M31523_at', 'L09209_s_at',\n",
      "       'D88422_at', 'M84526_at', 'U46499_at', 'M11722_at', 'X62654_rna1_at'],\n",
      "      dtype='object')\n"
     ]
    }
   ],
   "source": [
    "from sklearn.feature_selection import mutual_info_classif\n",
    "import numpy as np\n",
    "\n",
    "# Compute mutual information between each feature and the target\n",
    "mi = mutual_info_classif(X, Y)\n",
    "\n",
    "# Sort features based on mutual information\n",
    "mi_sorted_indices = np.argsort(mi)[::-1]  # Sort in descending order\n",
    "\n",
    "# Get top 10 features based on mutual information\n",
    "top_10_mi_features = df.columns[mi_sorted_indices[:10]]\n",
    "\n",
    "print(\"Top 10 features based on Mutual Information:\")\n",
    "print(top_10_mi_features)\n",
    "\n"
   ]
  },
  {
   "cell_type": "markdown",
   "metadata": {},
   "source": [
    "Anova F-test"
   ]
  },
  {
   "cell_type": "code",
   "execution_count": 17,
   "metadata": {},
   "outputs": [
    {
     "name": "stdout",
     "output_type": "stream",
     "text": [
      "Top 10 features based on ANOVA F-test:\n",
      "Index(['X95735_at', 'X17042_at', 'M23197_at', 'M84526_at', 'L09209_s_at',\n",
      "       'U46499_at', 'M27891_at', 'M16038_at', 'M22960_at', 'M63138_at'],\n",
      "      dtype='object')\n"
     ]
    }
   ],
   "source": [
    "from sklearn.feature_selection import f_classif\n",
    "\n",
    "# Perform ANOVA F-test\n",
    "f_scores, p_values = f_classif(X, Y)\n",
    "\n",
    "# Sort features based on F-scores\n",
    "f_sorted_indices = np.argsort(f_scores)[::-1]\n",
    "\n",
    "# Get top 10 features based on ANOVA F-test (for example)\n",
    "top_10_f_features = df.columns[f_sorted_indices[:10]]\n",
    "\n",
    "print(\"Top 10 features based on ANOVA F-test:\")\n",
    "print(top_10_f_features)\n"
   ]
  },
  {
   "cell_type": "markdown",
   "metadata": {},
   "source": [
    "Chi-Square Test"
   ]
  },
  {
   "cell_type": "code",
   "execution_count": 18,
   "metadata": {},
   "outputs": [
    {
     "name": "stdout",
     "output_type": "stream",
     "text": [
      "Top 10 features based on Chi-Square Test:\n",
      "Index(['M27891_at', 'Y00787_s_at', 'U46499_at', 'D88422_at', 'M19507_at',\n",
      "       'X17042_at', 'M23197_at', 'M84526_at', 'M16038_at', 'X95735_at'],\n",
      "      dtype='object')\n"
     ]
    }
   ],
   "source": [
    "from sklearn.feature_selection import chi2\n",
    "from sklearn.preprocessing import MinMaxScaler\n",
    "\n",
    "# Chi-square test requires non-negative values, so we scale the data\n",
    "scaler = MinMaxScaler()\n",
    "X_scaled = scaler.fit_transform(X)\n",
    "\n",
    "# Perform Chi-Square test\n",
    "chi_scores, p_values = chi2(X_scaled, Y)\n",
    "\n",
    "# Sort features based on Chi-square scores\n",
    "chi_sorted_indices = np.argsort(chi_scores)[::-1]\n",
    "\n",
    "# Get top 10 features based on Chi-square test (for example)\n",
    "top_10_chi_features = df.columns[chi_sorted_indices[:10]]\n",
    "\n",
    "print(\"Top 10 features based on Chi-Square Test:\")\n",
    "print(top_10_chi_features)\n"
   ]
  },
  {
   "cell_type": "markdown",
   "metadata": {},
   "source": [
    "Convert Top Feature Names to Indices"
   ]
  },
  {
   "cell_type": "code",
   "execution_count": 19,
   "metadata": {},
   "outputs": [],
   "source": [
    "# Convert column names to indices\n",
    "def get_feature_indices(df, top_features):\n",
    "    return [df.columns.get_loc(feature) for feature in top_features]\n",
    "\n",
    "# Get top 10 features for each selection technique\n",
    "top_10_mi_indices = get_feature_indices(df, top_10_mi_features)\n",
    "top_10_f_indices = get_feature_indices(df, top_10_f_features)\n",
    "top_10_chi_indices = get_feature_indices(df, top_10_chi_features)\n"
   ]
  },
  {
   "cell_type": "markdown",
   "metadata": {},
   "source": [
    "SVM Model Performance After Filter Feature Selection"
   ]
  },
  {
   "cell_type": "code",
   "execution_count": 20,
   "metadata": {},
   "outputs": [
    {
     "name": "stdout",
     "output_type": "stream",
     "text": [
      "SVM Performance using Mutual Information:\n",
      "Accuracy: 0.9333\n",
      "ROC-AUC: 0.9583\n",
      "\n",
      "Classification Report:\n",
      "               precision    recall  f1-score   support\n",
      "\n",
      "           0       1.00      0.92      0.96        12\n",
      "           1       0.75      1.00      0.86         3\n",
      "\n",
      "    accuracy                           0.93        15\n",
      "   macro avg       0.88      0.96      0.91        15\n",
      "weighted avg       0.95      0.93      0.94        15\n",
      "\n",
      "Confusion Matrix:\n",
      "[[11  1]\n",
      " [ 0  3]]\n",
      "\n",
      "\n",
      "SVM Performance using F-Score:\n",
      "Accuracy: 0.8667\n",
      "ROC-AUC: 0.7917\n",
      "\n",
      "Classification Report:\n",
      "               precision    recall  f1-score   support\n",
      "\n",
      "           0       0.92      0.92      0.92        12\n",
      "           1       0.67      0.67      0.67         3\n",
      "\n",
      "    accuracy                           0.87        15\n",
      "   macro avg       0.79      0.79      0.79        15\n",
      "weighted avg       0.87      0.87      0.87        15\n",
      "\n",
      "Confusion Matrix:\n",
      "[[11  1]\n",
      " [ 1  2]]\n",
      "\n",
      "\n",
      "SVM Performance using Chi-Square:\n",
      "Accuracy: 0.9333\n",
      "ROC-AUC: 0.9583\n",
      "\n",
      "Classification Report:\n",
      "               precision    recall  f1-score   support\n",
      "\n",
      "           0       1.00      0.92      0.96        12\n",
      "           1       0.75      1.00      0.86         3\n",
      "\n",
      "    accuracy                           0.93        15\n",
      "   macro avg       0.88      0.96      0.91        15\n",
      "weighted avg       0.95      0.93      0.94        15\n",
      "\n",
      "Confusion Matrix:\n",
      "[[11  1]\n",
      " [ 0  3]]\n",
      "\n",
      "\n"
     ]
    }
   ],
   "source": [
    "# Define the function to evaluate the SVM model\n",
    "def evaluate_svm(X, Y, top_features, technique_name):\n",
    "    # Filter the dataset with the top features\n",
    "    X_selected = X[:, top_features]\n",
    "    \n",
    "    # Split the dataset into training and test data\n",
    "    X_train, X_test, Y_train, Y_test = train_test_split(X_selected, Y, test_size=0.2, random_state=14)\n",
    "    \n",
    "    # Build the SVM model\n",
    "    svm = SVC(kernel='linear', random_state=12)\n",
    "    \n",
    "    # Train the model\n",
    "    svm.fit(X_train, Y_train)\n",
    "    \n",
    "    # Predict the labels for the test set\n",
    "    Y_pred = svm.predict(X_test)\n",
    "    \n",
    "    # Calculate the accuracy\n",
    "    accuracy = accuracy_score(Y_test, Y_pred)\n",
    "    \n",
    "    # Calculate ROC AUC score\n",
    "    roc_auc = roc_auc_score(Y_test, Y_pred)\n",
    "    \n",
    "    # Print classification report\n",
    "    classification_rep = classification_report(Y_test, Y_pred)\n",
    "    \n",
    "    # Print confusion matrix\n",
    "    conf_matrix = confusion_matrix(Y_test, Y_pred)\n",
    "    \n",
    "    # Display the metrics with the technique name\n",
    "    print(f\"SVM Performance using {technique_name}:\")\n",
    "    print(f\"Accuracy: {accuracy:.4f}\")\n",
    "    print(f\"ROC-AUC: {roc_auc:.4f}\")\n",
    "    print(\"\\nClassification Report:\\n\", classification_rep)\n",
    "    print(\"Confusion Matrix:\")\n",
    "    print(conf_matrix)\n",
    "    print(\"\\n\")\n",
    "\n",
    "# Evaluate SVM using the top 10 features selected by Mutual Information\n",
    "evaluate_svm(X, Y, top_10_mi_indices, \"Mutual Information\")\n",
    "\n",
    "# Evaluate SVM using the top 10 features selected by F-Score\n",
    "evaluate_svm(X, Y, top_10_f_indices, \"F-Score\")\n",
    "\n",
    "# Evaluate SVM using the top 10 features selected by Chi-Square\n",
    "evaluate_svm(X, Y, top_10_chi_indices, \"Chi-Square\")\n"
   ]
  },
  {
   "cell_type": "markdown",
   "metadata": {},
   "source": [
    "Random Forest Model Performance After Filter Feature Selection"
   ]
  },
  {
   "cell_type": "code",
   "execution_count": 21,
   "metadata": {},
   "outputs": [
    {
     "name": "stdout",
     "output_type": "stream",
     "text": [
      "Random Forest Performance using Mutual Information:\n",
      "Accuracy: 0.9333\n",
      "ROC-AUC: 0.8750\n",
      "\n",
      "Classification Report:\n",
      "               precision    recall  f1-score   support\n",
      "\n",
      "           0       0.92      1.00      0.96        11\n",
      "           1       1.00      0.75      0.86         4\n",
      "\n",
      "    accuracy                           0.93        15\n",
      "   macro avg       0.96      0.88      0.91        15\n",
      "weighted avg       0.94      0.93      0.93        15\n",
      "\n",
      "Confusion Matrix:\n",
      "[[11  0]\n",
      " [ 1  3]]\n",
      "\n",
      "\n",
      "Random Forest Performance using F-Score:\n",
      "Accuracy: 0.8667\n",
      "ROC-AUC: 0.7500\n",
      "\n",
      "Classification Report:\n",
      "               precision    recall  f1-score   support\n",
      "\n",
      "           0       0.85      1.00      0.92        11\n",
      "           1       1.00      0.50      0.67         4\n",
      "\n",
      "    accuracy                           0.87        15\n",
      "   macro avg       0.92      0.75      0.79        15\n",
      "weighted avg       0.89      0.87      0.85        15\n",
      "\n",
      "Confusion Matrix:\n",
      "[[11  0]\n",
      " [ 2  2]]\n",
      "\n",
      "\n",
      "Random Forest Performance using Chi-Square:\n",
      "Accuracy: 0.9333\n",
      "ROC-AUC: 0.8750\n",
      "\n",
      "Classification Report:\n",
      "               precision    recall  f1-score   support\n",
      "\n",
      "           0       0.92      1.00      0.96        11\n",
      "           1       1.00      0.75      0.86         4\n",
      "\n",
      "    accuracy                           0.93        15\n",
      "   macro avg       0.96      0.88      0.91        15\n",
      "weighted avg       0.94      0.93      0.93        15\n",
      "\n",
      "Confusion Matrix:\n",
      "[[11  0]\n",
      " [ 1  3]]\n",
      "\n",
      "\n"
     ]
    }
   ],
   "source": [
    "# Define the function to evaluate the Random Forest model\n",
    "def evaluate_rf(X, Y, top_features, technique_name):\n",
    "    # Filter the dataset with the top features\n",
    "    X_selected = X[:, top_features]\n",
    "    \n",
    "    # Split the dataset into training and test data\n",
    "    X_train, X_test, Y_train, Y_test = train_test_split(X_selected, Y, test_size=0.2, random_state=13)\n",
    "    \n",
    "    # Build the Random Forest model\n",
    "    rf = RandomForestClassifier(n_estimators=100, random_state=13)\n",
    "    \n",
    "    # Train the model\n",
    "    rf.fit(X_train, Y_train)\n",
    "    \n",
    "    # Predict the labels for the test set\n",
    "    Y_pred = rf.predict(X_test)\n",
    "    \n",
    "    # Calculate the accuracy\n",
    "    accuracy = accuracy_score(Y_test, Y_pred)\n",
    "    \n",
    "    # Calculate ROC AUC score\n",
    "    roc_auc = roc_auc_score(Y_test, Y_pred)\n",
    "    \n",
    "    # Print classification report\n",
    "    classification_rep = classification_report(Y_test, Y_pred)\n",
    "    \n",
    "    # Print confusion matrix\n",
    "    conf_matrix = confusion_matrix(Y_test, Y_pred)\n",
    "    \n",
    "    # Display the metrics with the technique name\n",
    "    print(f\"Random Forest Performance using {technique_name}:\")\n",
    "    print(f\"Accuracy: {accuracy:.4f}\")\n",
    "    print(f\"ROC-AUC: {roc_auc:.4f}\")\n",
    "    print(\"\\nClassification Report:\\n\", classification_rep)\n",
    "    print(\"Confusion Matrix:\")\n",
    "    print(conf_matrix)\n",
    "    print(\"\\n\")\n",
    "\n",
    "# Evaluate Random Forest using the top 10 features selected by Mutual Information\n",
    "evaluate_rf(X, Y, top_10_mi_indices, \"Mutual Information\")\n",
    "\n",
    "# Evaluate Random Forest using the top 10 features selected by F-Score\n",
    "evaluate_rf(X, Y, top_10_f_indices, \"F-Score\")\n",
    "\n",
    "# Evaluate Random Forest using the top 10 features selected by Chi-Square\n",
    "evaluate_rf(X, Y, top_10_chi_indices, \"Chi-Square\")\n"
   ]
  }
 ],
 "metadata": {
  "kernelspec": {
   "display_name": "Python 3",
   "language": "python",
   "name": "python3"
  },
  "language_info": {
   "codemirror_mode": {
    "name": "ipython",
    "version": 3
   },
   "file_extension": ".py",
   "mimetype": "text/x-python",
   "name": "python",
   "nbconvert_exporter": "python",
   "pygments_lexer": "ipython3",
   "version": "3.11.9"
  }
 },
 "nbformat": 4,
 "nbformat_minor": 2
}
